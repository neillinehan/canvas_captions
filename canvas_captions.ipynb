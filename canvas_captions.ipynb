{
  "nbformat": 4,
  "nbformat_minor": 0,
  "metadata": {
    "colab": {
      "provenance": [],
      "include_colab_link": true
    },
    "kernelspec": {
      "name": "python3",
      "display_name": "Python 3"
    },
    "language_info": {
      "name": "python"
    }
  },
  "cells": [
    {
      "cell_type": "markdown",
      "metadata": {
        "id": "view-in-github",
        "colab_type": "text"
      },
      "source": [
        "<a href=\"https://colab.research.google.com/github/neillinehan/canvas_captions/blob/main/canvas_captions.ipynb\" target=\"_parent\"><img src=\"https://colab.research.google.com/assets/colab-badge.svg\" alt=\"Open In Colab\"/></a>"
      ]
    },
    {
      "cell_type": "code",
      "source": [
        "!pip install git+https://github.com/neillinehan/canvas_captions.git"
      ],
      "metadata": {
        "colab": {
          "base_uri": "https://localhost:8080/"
        },
        "id": "KGutMJ9SfXEs",
        "outputId": "5b130d21-f159-4952-dc49-44664300a81d"
      },
      "execution_count": 7,
      "outputs": [
        {
          "output_type": "stream",
          "name": "stdout",
          "text": [
            "Collecting git+https://github.com/neillinehan/canvas_captions.git\n",
            "  Cloning https://github.com/neillinehan/canvas_captions.git to /tmp/pip-req-build-bsiz4q9t\n",
            "  Running command git clone --filter=blob:none --quiet https://github.com/neillinehan/canvas_captions.git /tmp/pip-req-build-bsiz4q9t\n",
            "  Resolved https://github.com/neillinehan/canvas_captions.git to commit 1bc71cf0f1e77f5fed3c771e704c37430a01d1ec\n",
            "  Preparing metadata (setup.py) ... \u001b[?25l\u001b[?25hdone\n",
            "Building wheels for collected packages: canvas-captions\n",
            "  Building wheel for canvas-captions (setup.py) ... \u001b[?25l\u001b[?25hdone\n",
            "  Created wheel for canvas-captions: filename=canvas_captions-0.1-py3-none-any.whl size=3015 sha256=2e89b01bb877b59bc942f8352783e3bd3e6708d0aef01059ad0a252e800df3ec\n",
            "  Stored in directory: /tmp/pip-ephem-wheel-cache-cah89coq/wheels/b2/a8/11/6d8a0d3254007c8a6554cd59e7e51eba9f85c1eb285692fe0a\n",
            "Successfully built canvas-captions\n",
            "Installing collected packages: canvas-captions\n",
            "Successfully installed canvas-captions-0.1\n"
          ]
        }
      ]
    },
    {
      "cell_type": "code",
      "source": [
        "from canvas_captions.canvas_captions import write_wistia_captions_to_file"
      ],
      "metadata": {
        "id": "G3QBkegrfYbN"
      },
      "execution_count": 15,
      "outputs": []
    },
    {
      "cell_type": "code",
      "source": [
        "urls = ['https://fast.wistia.net/embed/captions/1bj2xih5n4.json',\n",
        "        'https://fast.wistia.net/embed/captions/69sy2dna60.json',\n",
        "        'https://fast.wistia.net/embed/captions/8e6abivz6m.json',\n",
        "        'https://fast.wistia.net/embed/captions/fpvaqpsa5b.json',\n",
        "        'https://fast.wistia.net/embed/captions/h35g67x5g0.json',\n",
        "        'https://fast.wistia.net/embed/captions/he7xyc3zdr.json']"
      ],
      "metadata": {
        "id": "zRWY6LNXxjVd"
      },
      "execution_count": 10,
      "outputs": []
    },
    {
      "cell_type": "code",
      "source": [
        "# Import the necessary libraries\n",
        "import os\n",
        "\n",
        "# Get a list of all text files in the /content/ directory\n",
        "text_files = [f for f in os.listdir('/content/') if f.endswith('.txt')]\n",
        "\n",
        "# Open a new text file in write mode\n",
        "with open('/content/combined_captions.txt', 'w') as combined_file:\n",
        "  # Loop through each text file and write its contents to the combined file\n",
        "  for text_file in text_files:\n",
        "    with open(text_file, 'r') as current_file:\n",
        "      combined_file.write(current_file.read())\n",
        "\n",
        "# Open the combined file in read mode and print the first 100 characters\n",
        "with open('/content/combined_captions.txt', 'r') as combined_file:\n",
        "  print(combined_file.read(150))"
      ],
      "metadata": {
        "colab": {
          "base_uri": "https://localhost:8080/"
        },
        "id": "eX49FQQih4vd",
        "outputId": "f619bdb0-c910-43dc-ff5a-3fa69a49855f"
      },
      "execution_count": 19,
      "outputs": [
        {
          "output_type": "stream",
          "name": "stdout",
          "text": [
            "Welcome back. In this module, we're going to take a brief look at some of the mathematical properties of some of the variables that we have been deali\n"
          ]
        }
      ]
    }
  ]
}